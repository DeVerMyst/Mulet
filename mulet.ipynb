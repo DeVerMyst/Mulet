{
 "cells": [
  {
   "cell_type": "code",
   "execution_count": null,
   "metadata": {},
   "outputs": [],
   "source": []
  },
  {
   "cell_type": "code",
   "execution_count": 1,
   "metadata": {},
   "outputs": [],
   "source": [
    "import numpy as np\n",
    "import matplotlib.pyplot as plt\n",
    "from matplotlib.animation import FuncAnimation\n",
    "\n",
    "\n",
    "G = 0.15656\n",
    "pi = np.pi\n",
    "\n",
    "max = np.maximum\n",
    "min = np.minimum\n",
    "\n",
    "\n",
    "class Corps:\n",
    "    def __init__(self):\n",
    "        self.Masse = 0\n",
    "        self.Position = np.zeros(3)\n",
    "        self.Vitesse = np.zeros(3)\n",
    "\n",
    "    def __str__(self):\n",
    "        return \"Masse : \" + str(self.Masse) + \"\\nPosition : \" + str(self.Position) + \"\\nVitesse : \" + str(self.Vitesse) + \"\\n\"\n",
    "\n",
    "class Vecteur:\n",
    "    def __init__(self):\n",
    "        self.Axe = np.zeros(3)\n",
    "\n",
    "class RK:\n",
    "    def __init__(self):\n",
    "        self.X = np.zeros(4)\n",
    "        self.Y = np.zeros(4)\n",
    "        self.Z = np.zeros(4)"
   ]
  },
  {
   "cell_type": "code",
   "execution_count": 2,
   "metadata": {},
   "outputs": [],
   "source": [
    "def InistSystConnu(choix):\n",
    "    Etoile = [Corps() for i in range(2)]\n",
    "    KX = [RK() for i in range(2)]\n",
    "    KV = [RK() for i in range(2)]\n",
    "    VectPost = Vecteur() \n",
    "    VectForce = Vecteur()\n",
    "    if choix == 0:\n",
    "      Etoile[0].Masse=20;\n",
    "      Etoile[0].Position[0] =-100\n",
    "      Etoile[0].Position[1] =0\n",
    "      Etoile[0].Position[2] =-200;\n",
    "      Etoile[0].Vitesse[0]=0.5\n",
    "      Etoile[0].Vitesse[1]=0.2\n",
    "      Etoile[0].Vitesse[2]=1;\n",
    "\n",
    "      Etoile[1].Masse=20;\n",
    "      Etoile[1].Position[0] =100\n",
    "      Etoile[1].Position[1] =0\n",
    "      Etoile[1].Position[2] =200;\n",
    "      Etoile[1].Vitesse[0]=-0.5\n",
    "      Etoile[1].Vitesse[1]=-0.2\n",
    "      Etoile[1].Vitesse[2]=-1;       \n",
    "    else: \n",
    "      Etoile[0].Masse=80;\n",
    "      Etoile[0].Position[0] =-100\n",
    "      Etoile[0].Position[1] =0\n",
    "      Etoile[0].Position[2] =-200;\n",
    "      Etoile[0].Vitesse[0]=0.1\n",
    "      Etoile[0].Vitesse[1]=1\n",
    "      Etoile[0].Vitesse[2]=0.2;\n",
    "\n",
    "      Etoile[1].Masse=80;\n",
    "      Etoile[1].Position[0] =100\n",
    "      Etoile[1].Position[1] =0\n",
    "      Etoile[1].Position[2] =200;\n",
    "      Etoile[1].Vitesse[0]=-0.1\n",
    "      Etoile[1].Vitesse[1]=-1\n",
    "      Etoile[1].Vitesse[2]=-0.2; \n",
    "\n",
    "    return Etoile, KX, KV, VectPost, VectForce"
   ]
  },
  {
   "cell_type": "code",
   "execution_count": 3,
   "metadata": {},
   "outputs": [],
   "source": [
    "Etoile, KX, KV, VectPost, VectForce = InistSystConnu(1)"
   ]
  },
  {
   "cell_type": "code",
   "execution_count": 4,
   "metadata": {},
   "outputs": [
    {
     "name": "stdout",
     "output_type": "stream",
     "text": [
      "Etoile N° 0\n",
      "Masse : 80\n",
      "Position : [-100.    0. -200.]\n",
      "Vitesse : [0.1 1.  0.2]\n",
      "\n",
      "Etoile N° 1\n",
      "Masse : 80\n",
      "Position : [100.   0. 200.]\n",
      "Vitesse : [-0.1 -1.  -0.2]\n",
      "\n"
     ]
    }
   ],
   "source": [
    "def print_Etoile(Etoile):\n",
    "    for n,etoile in enumerate(Etoile):\n",
    "        print(\"Etoile N°\",n)\n",
    "        print(etoile)\n",
    "\n",
    "\n",
    "print_Etoile(Etoile)"
   ]
  },
  {
   "cell_type": "code",
   "execution_count": 5,
   "metadata": {},
   "outputs": [
    {
     "data": {
      "text/plain": [
       "4.481008672734299"
      ]
     },
     "execution_count": 5,
     "metadata": {},
     "output_type": "execute_result"
    }
   ],
   "source": [
    "def EnergiePotentiel(NombreDeCorps,Etoile):\n",
    "    Potentiel = 0\n",
    "    for i in range(NombreDeCorps):\n",
    "        for j in range(NombreDeCorps):\n",
    "            if i != j:\n",
    "                Potentiel += G*Etoile[i].Masse*Etoile[j].Masse/np.linalg.norm(Etoile[i].Position-Etoile[j].Position)\n",
    "    return Potentiel\n",
    "\n",
    "EnergiePotentiel(2,Etoile)"
   ]
  },
  {
   "cell_type": "code",
   "execution_count": 6,
   "metadata": {},
   "outputs": [
    {
     "data": {
      "text/plain": [
       "84.00000000000003"
      ]
     },
     "execution_count": 6,
     "metadata": {},
     "output_type": "execute_result"
    }
   ],
   "source": [
    "def EnergieCinetique(NombreDeCorps,Etoile):\n",
    "    Cinetique = 0\n",
    "    for i in range(NombreDeCorps):\n",
    "        Cinetique += 0.5*Etoile[i].Masse*np.linalg.norm(Etoile[i].Vitesse)**2\n",
    "    return Cinetique\n",
    "\n",
    "EnergieCinetique(2,Etoile)"
   ]
  },
  {
   "cell_type": "code",
   "execution_count": 7,
   "metadata": {},
   "outputs": [],
   "source": [
    "def RungeKutta(NombreDeCorps, PasDeTemps, VectPost, VectForce, Etoile, KX, KV):\n",
    "\n",
    "    def acceleration(EnCour, Etoile, NombreDeCorps, VectPost, VectForce):\n",
    "        for indice in range(3):\n",
    "            VectPost.Axe[indice] = 0\n",
    "        for indice in range(NombreDeCorps):\n",
    "            if indice != EnCour:\n",
    "                Distance = np.linalg.norm(Etoile[indice].Position - VectForce.Axe)\n",
    "                Tampon = (G*Etoile[EnCour].Masse*Etoile[indice].Masse)/(Distance**3)\n",
    "                VectPost.Axe += Tampon*(Etoile[indice].Position - VectForce.Axe)\n",
    "        return VectPost.Axe\n",
    "\n",
    "    for indice in range(NombreDeCorps):\n",
    "        KX[indice].X[0] = Etoile[indice].Vitesse[0]*PasDeTemps\n",
    "        KX[indice].Y[0] = Etoile[indice].Vitesse[1]*PasDeTemps\n",
    "        KX[indice].Z[0] = Etoile[indice].Vitesse[2]*PasDeTemps\n",
    "        for i in range(3):\n",
    "            VectForce.Axe[i] = Etoile[indice].Position[i]\n",
    "\n",
    "        VectPost.Axe = acceleration(indice, Etoile, NombreDeCorps, VectPost, VectForce)\n",
    "\n",
    "        KV[indice].X[0] = VectPost.Axe[0]*PasDeTemps\n",
    "        KV[indice].Y[0] = VectPost.Axe[1]*PasDeTemps\n",
    "        KV[indice].Z[0] = VectPost.Axe[2]*PasDeTemps\n",
    "\n",
    "        KX[indice].X[1] = (KX[indice].X[0] + 0.5*KV[indice].X[0])*PasDeTemps\n",
    "        KX[indice].Y[1] = (KX[indice].Y[0] + 0.5*KV[indice].Y[0])*PasDeTemps\n",
    "        KX[indice].Z[1] = (KX[indice].Z[0] + 0.5*KV[indice].Z[0])*PasDeTemps\n",
    "\n",
    "        VectForce.Axe[0] = Etoile[indice].Position[0] + 0.5*KX[indice].X[0]\n",
    "        VectForce.Axe[1] = Etoile[indice].Position[1] + 0.5*KX[indice].Y[0]\n",
    "        VectForce.Axe[2] = Etoile[indice].Position[2] + 0.5*KX[indice].Z[0]\n",
    "\n",
    "        VectPost.Axe = acceleration(indice, Etoile, NombreDeCorps, VectPost, VectForce)\n",
    "\n",
    "        KV[indice].X[1] = VectPost.Axe[0]*PasDeTemps\n",
    "        KV[indice].Y[1] = VectPost.Axe[1]*PasDeTemps\n",
    "        KV[indice].Z[1] = VectPost.Axe[2]*PasDeTemps\n",
    "\n",
    "        KX[indice].X[2] = (KX[indice].X[0] + 0.5*KV[indice].X[1])*PasDeTemps\n",
    "        KX[indice].Y[2] = (KX[indice].Y[0] + 0.5*KV[indice].Y[1])*PasDeTemps\n",
    "        KX[indice].Z[2] = (KX[indice].Z[0] + 0.5*KV[indice].Z[1])*PasDeTemps\n",
    "\n",
    "        VectForce.Axe[0] = Etoile[indice].Position[0] + 0.5*KX[indice].X[1]\n",
    "        VectForce.Axe[1] = Etoile[indice].Position[1] + 0.5*KX[indice].Y[1]\n",
    "        VectForce.Axe[2] = Etoile[indice].Position[2] + 0.5*KX[indice].Z[1]\n",
    "\n",
    "        VectPost.Axe = acceleration(indice, Etoile, NombreDeCorps, VectPost, VectForce)\n",
    "\n",
    "        KV[indice].X[2] = VectPost.Axe[0]*PasDeTemps\n",
    "        KV[indice].Y[2] = VectPost.Axe[1]*PasDeTemps\n",
    "        KV[indice].Z[2] = VectPost.Axe[2]*PasDeTemps\n",
    "\n",
    "        KX[indice].X[3] = (KX[indice].X[0] + KV[indice].X[2])*PasDeTemps\n",
    "        KX[indice].Y[3] = (KX[indice].Y[0] + KV[indice].Y[2])*PasDeTemps\n",
    "        KX[indice].Z[3] = (KX[indice].Z[0] + KV[indice].Z[2])*PasDeTemps\n",
    "\n",
    "        VectForce.Axe[0] = Etoile[indice].Position[0] + KX[indice].X[2]\n",
    "        VectForce.Axe[1] = Etoile[indice].Position[1] + KX[indice].Y[2]\n",
    "        VectForce.Axe[2] = Etoile[indice].Position[2] + KX[indice].Z[2]\n",
    "\n",
    "        VectPost.Axe = acceleration(indice, Etoile, NombreDeCorps, VectPost, VectForce)\n",
    "\n",
    "        KV[indice].X[3] = VectPost.Axe[0]*PasDeTemps\n",
    "        KV[indice].Y[3] = VectPost.Axe[1]*PasDeTemps\n",
    "        KV[indice].Z[3] = VectPost.Axe[2]*PasDeTemps\n",
    "\n",
    "    for indice in range(NombreDeCorps):\n",
    "        Etoile[indice].Position[0] = Etoile[indice].Position[0] + (KX[indice].X[0] + 2*KX[indice].X[1] + 2*KX[indice].X[2] + KX[indice].X[3])/6\n",
    "        Etoile[indice].Position[1] = Etoile[indice].Position[1] + (KX[indice].Y[0] + 2*KX[indice].Y[1] + 2*KX[indice].Y[2] + KX[indice].Y[3])/6\n",
    "        Etoile[indice].Position[2] = Etoile[indice].Position[2] + (KX[indice].Z[0] + 2*KX[indice].Z[1] + 2*KX[indice].Z[2] + KX[indice].Z[3])/6\n",
    "        Etoile[indice].Vitesse[0] = Etoile[indice].Vitesse[0] + (KV[indice].X[0] + 2*KV[indice].X[1] + 2*KV[indice].X[2] + KV[indice].X[3])/6\n",
    "        Etoile[indice].Vitesse[1] = Etoile[indice].Vitesse[1] + (KV[indice].Y[0] + 2*KV[indice].Y[1] + 2*KV[indice].Y[2] + KV[indice].Y[3])/6\n",
    "        Etoile[indice].Vitesse[2] = Etoile[indice].Vitesse[2] + (KV[indice].Z[0] + 2*KV[indice].Z[1] + 2*KV[indice].Z[2] + KV[indice].Z[3])/6\n",
    "\n",
    "    return VectPost, VectForce, Etoile, KX, KV\n",
    "\n",
    "\n"
   ]
  },
  {
   "cell_type": "code",
   "execution_count": 8,
   "metadata": {},
   "outputs": [
    {
     "name": "stdout",
     "output_type": "stream",
     "text": [
      "[ -99.43048831    5.62494875 -198.86097662] [ 99.43048831  -5.62494875 198.86097662]\n",
      "[ -98.82931962   11.24909935 -197.65863924] [ 98.82931962 -11.24909935 197.65863924]\n",
      "[ -98.1961788    16.87062588 -196.39235759] [ 98.1961788  -16.87062588 196.39235759]\n",
      "[ -97.53078874   22.48764924 -195.06157748] [ 97.53078874 -22.48764924 195.06157748]\n",
      "[ -96.83291284   28.09824197 -193.66582567] [ 96.83291284 -28.09824197 193.66582567]\n",
      "[ -96.10235728   33.70043362 -192.20471457] [ 96.10235728 -33.70043362 192.20471457]\n",
      "[ -95.33897324   39.29221668 -190.67794647] [ 95.33897324 -39.29221668 190.67794647]\n",
      "[ -94.54265873   44.87155307 -189.08531746] [ 94.54265873 -44.87155307 189.08531746]\n",
      "[ -93.71336037   50.43638097 -187.42672074] [ 93.71336037 -50.43638097 187.42672074]\n",
      "[ -92.85107476   55.98462223 -185.70214953] [ 92.85107476 -55.98462223 185.70214953]\n",
      "[ -91.95584962   61.51419001 -183.91169923] [ 91.95584962 -61.51419001 183.91169923]\n",
      "[ -91.02778455   67.02299677 -182.0555691 ] [ 91.02778455 -67.02299677 182.0555691 ]\n",
      "[ -90.06703156   72.50896245 -180.13406312] [ 90.06703156 -72.50896245 180.13406312]\n",
      "[ -89.07379512   77.97002273 -178.14759023] [ 89.07379512 -77.97002273 178.14759023]\n",
      "[ -88.04833192   83.4041374  -176.09666384] [ 88.04833192 -83.4041374  176.09666384]\n",
      "[ -86.99095027   88.80929858 -173.98190054] [ 86.99095027 -88.80929858 173.98190054]\n",
      "[ -85.90200909   94.18353889 -171.80401819] [ 85.90200909 -94.18353889 171.80401819]\n",
      "[ -84.78191659   99.52493926 -169.56383319] [ 84.78191659 -99.52493926 169.56383319]\n",
      "[ -83.63112858  104.83163651 -167.26225716] [  83.63112858 -104.83163651  167.26225716]\n",
      "[ -82.45014648  110.10183046 -164.90029295] [  82.45014648 -110.10183046  164.90029295]\n",
      "[ -81.239515    115.33379053 -162.47902999] [  81.239515   -115.33379053  162.47902999]\n",
      "[ -79.9998196   120.52586188 -159.9996392 ] [  79.9998196  -120.52586188  159.9996392 ]\n",
      "[ -78.73168368  125.67647082 -157.46336735] [  78.73168368 -125.67647082  157.46336735]\n",
      "[ -77.43576555  130.7841296  -154.8715311 ] [  77.43576555 -130.7841296   154.8715311 ]\n",
      "[ -76.1127553   135.84744057 -152.22551059] [  76.1127553  -135.84744057  152.22551059]\n",
      "[ -74.76337146  140.86509949 -149.52674291] [  74.76337146 -140.86509949  149.52674291]\n",
      "[ -73.38835766  145.83589826 -146.77671531] [  73.38835766 -145.83589826  146.77671531]\n",
      "[ -71.98847917  150.75872678 -143.97695833] [  71.98847917 -150.75872678  143.97695833]\n",
      "[ -70.56451947  155.63257417 -141.12903895] [  70.56451947 -155.63257417  141.12903895]\n",
      "[ -69.11727686  160.45652929 -138.23455372] [  69.11727686 -160.45652929  138.23455372]\n",
      "[ -67.64756105  165.22978057 -135.29512209] [  67.64756105 -165.22978057  135.29512209]\n",
      "[ -66.15618992  169.95161522 -132.31237984] [  66.15618992 -169.95161522  132.31237984]\n",
      "[ -64.6439864   174.62141785 -129.28797279] [  64.6439864  -174.62141785  129.28797279]\n",
      "[ -63.11177538  179.23866857 -126.22355076] [  63.11177538 -179.23866857  126.22355076]\n",
      "[ -61.56038093  183.8029406  -123.12076186] [  61.56038093 -183.8029406   123.12076186]\n",
      "[ -59.99062357  188.31389742 -119.98124715] [  59.99062357 -188.31389742  119.98124715]\n",
      "[ -58.40331779  192.77128963 -116.80663558] [  58.40331779 -192.77128963  116.80663558]\n",
      "[ -56.79926974  197.17495141 -113.59853949] [  56.79926974 -197.17495141  113.59853949]\n",
      "[ -55.17927515  201.52479682 -110.3585503 ] [  55.17927515 -201.52479682  110.3585503 ]\n",
      "[ -53.54411741  205.82081578 -107.08823481] [  53.54411741 -205.82081578  107.08823481]\n",
      "[ -51.89456587  210.06307    -103.78913175] [  51.89456587 -210.06307     103.78913175]\n",
      "[ -50.2313744   214.25168877 -100.4627488 ] [  50.2313744  -214.25168877  100.4627488 ]\n",
      "[-48.55528    218.38686469 -97.11056   ] [  48.55528    -218.38686469   97.11056   ]\n",
      "[-46.86700176 222.46884938 -93.73400351] [  46.86700176 -222.46884938   93.73400351]\n",
      "[-45.16723988 226.49794923 -90.33447976] [  45.16723988 -226.49794923   90.33447976]\n",
      "[-43.45667494 230.47452117 -86.91334989] [  43.45667494 -230.47452117   86.91334989]\n",
      "[-41.73596727 234.39896856 -83.47193453] [  41.73596727 -234.39896856   83.47193453]\n",
      "[-40.00575648 238.27173713 -80.01151295] [  40.00575648 -238.27173713   80.01151295]\n",
      "[-38.26666117 242.09331112 -76.53332234] [  38.26666117 -242.09331112   76.53332234]\n",
      "[-36.51927873 245.86420949 -73.03855746] [  36.51927873 -245.86420949   73.03855746]\n"
     ]
    },
    {
     "data": {
      "image/png": "[encoded data removed]",
      "text/plain": [
       "<Figure size 432x288 with 3 Axes>"
      ]
     },
     "metadata": {
      "needs_background": "light"
     },
     "output_type": "display_data"
    }
   ],
   "source": [
    "%matplotlib inline\n",
    "import time\n",
    "import pylab as pl\n",
    "from IPython import display\n",
    "\n",
    "Etoile, KX, KV, VectPost, VectForce = InistSystConnu(1)\n",
    "\n",
    "N_Iteration = 50\n",
    "PasDeTemps = 2.5\n",
    "NombreDeCorps = 2\n",
    "\n",
    "fig = plt.figure()\n",
    "ax1 = plt.subplot(2,2,1)\n",
    "ax2 = plt.subplot(2,2,2)\n",
    "ax3 = plt.subplot(2,2,3)\n",
    "\n",
    "C1 = list()\n",
    "C2 = list()\n",
    "for i in range(N_Iteration):\n",
    "\n",
    "    VectPost, VectForce, Etoile, KX, KV = RungeKutta(NombreDeCorps, PasDeTemps, VectPost, VectForce, Etoile, KX, KV)\n",
    "   \n",
    "    print(Etoile[0].Position, Etoile[1].Position)\n",
    "\n",
    "    # C1.append(Etoile[0].Position)    \n",
    "    # C2.append(Etoile[1].Position)\n",
    "\n",
    "    # ax1.clear()\n",
    "    # ax1.plot(Etoile[0].Position[0], Etoile[0].Position[1], 'ro')\n",
    "    # ax1.plot(Etoile[1].Position[0], Etoile[1].Position[1], 'bo')\n",
    "    # for j in range(len(C1)):\n",
    "    #     print( C1[j][0], C1[j][1] )\n",
    "    #     ax1.plot(C1[j][0], C1[j][1], '.r')\n",
    "    #     ax1.plot(C2[j][0], C2[j][1], '.b')\n",
    "    # ax1.set_title('XY')\n",
    "    # ax1.set_xlim(-1000,1000)\n",
    "    # ax1.set_ylim(-1000,1000)\n",
    "\n",
    "    # # ax.clear()\n",
    "    # ax2.plot(Etoile[0].Position[0], Etoile[0].Position[2], 'ro')\n",
    "    # ax2.plot(Etoile[1].Position[0], Etoile[1].Position[2], 'bo')\n",
    "    # ax2.set_title('XZ')\n",
    "    # ax2.set_ylim(-1000,1000)\n",
    "    # # ax.clear()\n",
    "    # ax3.plot(Etoile[0].Position[1], Etoile[0].Position[2], 'ro')\n",
    "    # ax3.plot(Etoile[1].Position[1], Etoile[1].Position[2], 'bo')\n",
    "    # ax3.set_title('YZ')\n",
    "    # ax3.set_ylim(-1000,1000)\n",
    "\n",
    "    # fig.suptitle(i)\n",
    "\n",
    "    # display.clear_output(wait=True)\n",
    "    # display.display(pl.gcf())\n",
    "    # time.sleep(.1)\n",
    "\n",
    "# fig.show()\n",
    "    "
   ]
  }
 ],
 "metadata": {
  "kernelspec": {
   "display_name": "Python 3.8.8 ('base')",
   "language": "python",
   "name": "python3"
  },
  "language_info": {
   "codemirror_mode": {
    "name": "ipython",
    "version": 3
   },
   "file_extension": ".py",
   "mimetype": "text/x-python",
   "name": "python",
   "nbconvert_exporter": "python",
   "pygments_lexer": "ipython3",
   "version": "3.8.8"
  },
  "orig_nbformat": 4,
  "vscode": {
   "interpreter": {
    "hash": "662f35aa5efe8063fb995446a6b606669bf7635ad24aedf839de422d7f9541a9"
   }
  }
 },
 "nbformat": 4,
 "nbformat_minor": 2
}
